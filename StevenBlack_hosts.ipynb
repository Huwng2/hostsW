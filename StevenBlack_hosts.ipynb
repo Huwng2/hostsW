{
  "cells": [
    {
      "cell_type": "markdown",
      "metadata": {
        "id": "view-in-github",
        "colab_type": "text"
      },
      "source": [
        "<a href=\"https://colab.research.google.com/github/Huwng2/hostsW/blob/main/StevenBlack_hosts.ipynb\" target=\"_parent\"><img src=\"https://colab.research.google.com/assets/colab-badge.svg\" alt=\"Open In Colab\"/></a>"
      ]
    },
    {
      "cell_type": "markdown",
      "source": [
        "# Step 1: Clone last commit of StevenBlack/hosts."
      ],
      "metadata": {
        "id": "ZdUUFGQCc3Zr"
      }
    },
    {
      "cell_type": "code",
      "source": [
        "!git clone https://github.com/StevenBlack/hosts --depth 1"
      ],
      "metadata": {
        "colab": {
          "base_uri": "https://localhost:8080/"
        },
        "id": "rErRW5A4dBOa",
        "outputId": "2c474e94-1e68-4827-be68-754586d244eb"
      },
      "execution_count": null,
      "outputs": [
        {
          "output_type": "stream",
          "name": "stdout",
          "text": [
            "Cloning into 'hosts'...\n",
            "remote: Enumerating objects: 243, done.\u001b[K\n",
            "remote: Counting objects: 100% (243/243), done.\u001b[K\n",
            "remote: Compressing objects: 100% (201/201), done.\u001b[K\n",
            "remote: Total 243 (delta 41), reused 190 (delta 38), pack-reused 0\u001b[K\n",
            "Receiving objects: 100% (243/243), 6.94 MiB | 16.52 MiB/s, done.\n",
            "Resolving deltas: 100% (41/41), done.\n"
          ]
        }
      ]
    },
    {
      "cell_type": "markdown",
      "source": [
        "# Step 2: Change directory to step into the hosts directory."
      ],
      "metadata": {
        "id": "iVt8JwHfdlkC"
      }
    },
    {
      "cell_type": "code",
      "source": [
        "cd hosts"
      ],
      "metadata": {
        "colab": {
          "base_uri": "https://localhost:8080/"
        },
        "id": "e3whp6OVd5kR",
        "outputId": "409ebf10-fc94-4bd9-cb5f-6a43d5768b09"
      },
      "execution_count": null,
      "outputs": [
        {
          "output_type": "stream",
          "name": "stdout",
          "text": [
            "/content/hosts\n"
          ]
        }
      ]
    },
    {
      "cell_type": "markdown",
      "source": [
        "# Step 3: Install dependencies."
      ],
      "metadata": {
        "id": "5WYQrjHaeE9q"
      }
    },
    {
      "cell_type": "code",
      "source": [
        "!pip install --user -r requirements.txt"
      ],
      "metadata": {
        "colab": {
          "base_uri": "https://localhost:8080/"
        },
        "id": "eQvhI93seT4p",
        "outputId": "947b1a69-d6d0-4dcb-e8f5-5835113ed93f"
      },
      "execution_count": null,
      "outputs": [
        {
          "output_type": "stream",
          "name": "stdout",
          "text": [
            "Looking in indexes: https://pypi.org/simple, https://us-python.pkg.dev/colab-wheels/public/simple/\n",
            "Requirement already satisfied: requests~=2.20 in /usr/local/lib/python3.10/dist-packages (from -r requirements.txt (line 1)) (2.27.1)\n",
            "Collecting flake8~=4.0 (from -r requirements.txt (line 2))\n",
            "  Downloading flake8-4.0.1-py2.py3-none-any.whl (64 kB)\n",
            "\u001b[2K     \u001b[90m━━━━━━━━━━━━━━━━━━━━━━━━━━━━━━━━━━━━━━━━\u001b[0m \u001b[32m64.1/64.1 kB\u001b[0m \u001b[31m3.3 MB/s\u001b[0m eta \u001b[36m0:00:00\u001b[0m\n",
            "\u001b[?25hRequirement already satisfied: urllib3<1.27,>=1.21.1 in /usr/local/lib/python3.10/dist-packages (from requests~=2.20->-r requirements.txt (line 1)) (1.26.15)\n",
            "Requirement already satisfied: certifi>=2017.4.17 in /usr/local/lib/python3.10/dist-packages (from requests~=2.20->-r requirements.txt (line 1)) (2022.12.7)\n",
            "Requirement already satisfied: charset-normalizer~=2.0.0 in /usr/local/lib/python3.10/dist-packages (from requests~=2.20->-r requirements.txt (line 1)) (2.0.12)\n",
            "Requirement already satisfied: idna<4,>=2.5 in /usr/local/lib/python3.10/dist-packages (from requests~=2.20->-r requirements.txt (line 1)) (3.4)\n",
            "Collecting mccabe<0.7.0,>=0.6.0 (from flake8~=4.0->-r requirements.txt (line 2))\n",
            "  Downloading mccabe-0.6.1-py2.py3-none-any.whl (8.6 kB)\n",
            "Collecting pycodestyle<2.9.0,>=2.8.0 (from flake8~=4.0->-r requirements.txt (line 2))\n",
            "  Downloading pycodestyle-2.8.0-py2.py3-none-any.whl (42 kB)\n",
            "\u001b[2K     \u001b[90m━━━━━━━━━━━━━━━━━━━━━━━━━━━━━━━━━━━━━━━━\u001b[0m \u001b[32m42.1/42.1 kB\u001b[0m \u001b[31m5.1 MB/s\u001b[0m eta \u001b[36m0:00:00\u001b[0m\n",
            "\u001b[?25hCollecting pyflakes<2.5.0,>=2.4.0 (from flake8~=4.0->-r requirements.txt (line 2))\n",
            "  Downloading pyflakes-2.4.0-py2.py3-none-any.whl (69 kB)\n",
            "\u001b[2K     \u001b[90m━━━━━━━━━━━━━━━━━━━━━━━━━━━━━━━━━━━━━━━━\u001b[0m \u001b[32m69.7/69.7 kB\u001b[0m \u001b[31m7.6 MB/s\u001b[0m eta \u001b[36m0:00:00\u001b[0m\n",
            "\u001b[?25hInstalling collected packages: mccabe, pyflakes, pycodestyle, flake8\n",
            "\u001b[33m  WARNING: The script pyflakes is installed in '/root/.local/bin' which is not on PATH.\n",
            "  Consider adding this directory to PATH or, if you prefer to suppress this warning, use --no-warn-script-location.\u001b[0m\u001b[33m\n",
            "\u001b[0m\u001b[33m  WARNING: The script pycodestyle is installed in '/root/.local/bin' which is not on PATH.\n",
            "  Consider adding this directory to PATH or, if you prefer to suppress this warning, use --no-warn-script-location.\u001b[0m\u001b[33m\n",
            "\u001b[0m\u001b[33m  WARNING: The script flake8 is installed in '/root/.local/bin' which is not on PATH.\n",
            "  Consider adding this directory to PATH or, if you prefer to suppress this warning, use --no-warn-script-location.\u001b[0m\u001b[33m\n",
            "\u001b[0mSuccessfully installed flake8-4.0.1 mccabe-0.6.1 pycodestyle-2.8.0 pyflakes-2.4.0\n"
          ]
        }
      ]
    },
    {
      "cell_type": "markdown",
      "source": [
        "# Step 4: Display command-line options."
      ],
      "metadata": {
        "id": "PWB2s7Xne_lx"
      }
    },
    {
      "cell_type": "code",
      "source": [
        "!python updateHostsFile.py -h"
      ],
      "metadata": {
        "colab": {
          "base_uri": "https://localhost:8080/"
        },
        "id": "3kjCFx25fDGB",
        "outputId": "c9e5cf7d-2a2f-4c86-f814-089f5782841f"
      },
      "execution_count": null,
      "outputs": [
        {
          "output_type": "stream",
          "name": "stdout",
          "text": [
            "usage: updateHostsFile.py\n",
            "       [-h]\n",
            "       [--auto]\n",
            "       [--backup]\n",
            "       [--extensions [EXTENSIONS ...]]\n",
            "       [--ip TARGETIP]\n",
            "       [--keepdomaincomments]\n",
            "       [--noupdate]\n",
            "       [--skipstatichosts]\n",
            "       [--nogendata]\n",
            "       [--output OUTPUTSUBFOLDER]\n",
            "       [--replace]\n",
            "       [--flush-dns-cache]\n",
            "       [--compress]\n",
            "       [--minimise]\n",
            "       [--whitelist WHITELISTFILE]\n",
            "       [--blacklist BLACKLISTFILE]\n",
            "\n",
            "Creates a\n",
            "unified\n",
            "hosts file\n",
            "from hosts\n",
            "stored in\n",
            "the data\n",
            "subfolders.\n",
            "\n",
            "options:\n",
            "  -h, --help\n",
            "    show this\n",
            "    help\n",
            "    message and\n",
            "    exit\n",
            "  --auto, -a\n",
            "    Run without\n",
            "    prompting.\n",
            "  --backup, -b\n",
            "    Backup the\n",
            "    hosts files\n",
            "    before they\n",
            "    are\n",
            "    overridden.\n",
            "  --extensions [EXTENSIONS ...], -e [EXTENSIONS ...]\n",
            "    Host\n",
            "    extensions\n",
            "    to include\n",
            "    in the\n",
            "    final hosts\n",
            "    file.\n",
            "  --ip TARGETIP, -i TARGETIP\n",
            "    Target IP\n",
            "    address.\n",
            "    Default is\n",
            "    0.0.0.0.\n",
            "  --keepdomaincomments, -k\n",
            "    Do not keep\n",
            "    domain line\n",
            "    comments.\n",
            "  --noupdate, -n\n",
            "    Don't\n",
            "    update from\n",
            "    host data\n",
            "    sources.\n",
            "  --skipstatichosts, -s\n",
            "    Skip static\n",
            "    localhost\n",
            "    entries in\n",
            "    the final\n",
            "    hosts file.\n",
            "  --nogendata, -g\n",
            "    Skip\n",
            "    generation\n",
            "    of readmeDa\n",
            "    ta.json\n",
            "  --output OUTPUTSUBFOLDER, -o OUTPUTSUBFOLDER\n",
            "    Output\n",
            "    subfolder\n",
            "    for\n",
            "    generated\n",
            "    hosts file.\n",
            "  --replace, -r\n",
            "    Replace\n",
            "    your active\n",
            "    hosts file\n",
            "    with this\n",
            "    new hosts\n",
            "    file.\n",
            "  --flush-dns-cache, -f\n",
            "    Attempt to\n",
            "    flush DNS\n",
            "    cache after\n",
            "    replacing\n",
            "    the hosts\n",
            "    file.\n",
            "  --compress, -c\n",
            "    Compress\n",
            "    the hosts\n",
            "    file\n",
            "    ignoring\n",
            "    non-\n",
            "    necessary\n",
            "    lines\n",
            "    (empty\n",
            "    lines and\n",
            "    comments)\n",
            "    and putting\n",
            "    multiple\n",
            "    domains in\n",
            "    each line.\n",
            "    Improve the\n",
            "    performance\n",
            "    under\n",
            "    Windows.\n",
            "  --minimise, -m\n",
            "    Minimise\n",
            "    the hosts\n",
            "    file\n",
            "    ignoring\n",
            "    non-\n",
            "    necessary\n",
            "    lines\n",
            "    (empty\n",
            "    lines and\n",
            "    comments).\n",
            "  --whitelist WHITELISTFILE, -w WHITELISTFILE\n",
            "    Whitelist\n",
            "    file to use\n",
            "    while\n",
            "    generating\n",
            "    hosts\n",
            "    files.\n",
            "  --blacklist BLACKLISTFILE, -x BLACKLISTFILE\n",
            "    Blacklist\n",
            "    file to use\n",
            "    while\n",
            "    generating\n",
            "    hosts\n",
            "    files.\n"
          ]
        }
      ]
    },
    {
      "cell_type": "markdown",
      "source": [
        "# Step 5: Generate your hosts file!\n",
        "\n",
        "(Edit the following command as needed)"
      ],
      "metadata": {
        "id": "AW7WsSHbfPLx"
      }
    },
    {
      "cell_type": "code",
      "source": [
        "!python updateHostsFile.py -a --compress -e fakenews"
      ],
      "metadata": {
        "colab": {
          "base_uri": "https://localhost:8080/"
        },
        "id": "3Sz2S9Ckf9YS",
        "outputId": "81edddf9-75dd-48d0-d30c-181afe6e489e"
      },
      "execution_count": null,
      "outputs": [
        {
          "output_type": "stream",
          "name": "stdout",
          "text": [
            "Updating source data/StevenBlack from https://raw.githubusercontent.com/StevenBlack/hosts/master/data/StevenBlack/hosts\n",
            "Updating source data/add.2o7Net from https://raw.githubusercontent.com/FadeMind/hosts.extras/master/add.2o7Net/hosts\n",
            "Updating source data/add.Dead from https://raw.githubusercontent.com/FadeMind/hosts.extras/master/add.Dead/hosts\n",
            "Updating source data/add.Risk from https://raw.githubusercontent.com/FadeMind/hosts.extras/master/add.Risk/hosts\n",
            "Updating source data/add.Spam from https://raw.githubusercontent.com/FadeMind/hosts.extras/master/add.Spam/hosts\n",
            "Updating source data/Badd-Boyz-Hosts from https://raw.githubusercontent.com/mitchellkrogza/Badd-Boyz-Hosts/master/hosts\n",
            "Updating source data/hostsVN from https://raw.githubusercontent.com/bigdargon/hostsVN/master/option/hosts-VN\n",
            "Updating source data/KADhosts from https://raw.githubusercontent.com/PolishFiltersTeam/KADhosts/master/KADhosts.txt\n",
            "Updating source data/MetaMask from https://raw.githubusercontent.com/MetaMask/eth-phishing-detect/master/src/hosts.txt\n",
            "Updating source data/minecraft-hosts from https://raw.githubusercontent.com/jamiemansfield/minecraft-hosts/master/lists/tracking.txt\n",
            "Updating source data/shady-hosts from https://raw.githubusercontent.com/shreyasminocha/shady-hosts/main/hosts\n",
            "Updating source data/someonewhocares.org from https://someonewhocares.org/hosts/zero/hosts\n",
            "Updating source data/tiuxo from https://raw.githubusercontent.com/tiuxo/hosts/master/ads\n",
            "Updating source data/UncheckyAds from https://raw.githubusercontent.com/FadeMind/hosts.extras/master/UncheckyAds/hosts\n",
            "Updating source data/URLHaus from https://urlhaus.abuse.ch/downloads/hostfile/\n",
            "Updating source extensions/fakenews from https://raw.githubusercontent.com/marktron/fakenews/master/fakenews\n",
            "Updating source extensions/gambling/bigdargon from https://raw.githubusercontent.com/bigdargon/hostsVN/master/extensions/gambling/hosts-VN\n",
            "Updating source extensions/gambling/sinfonietta from https://raw.githubusercontent.com/Sinfonietta/hostfiles/master/gambling-hosts\n",
            "Updating source extensions/porn/bigdargon from https://raw.githubusercontent.com/bigdargon/hostsVN/master/extensions/adult/hosts-VN\n",
            "Updating source extensions/porn/brijrajparmar27 from https://raw.githubusercontent.com/brijrajparmar27/host-sources/master/Porn/hosts\n",
            "Updating source extensions/porn/clefspeare13 from https://raw.githubusercontent.com/StevenBlack/hosts/master/extensions/porn/clefspeare13/hosts\n",
            "Updating source extensions/porn/sinfonietta from https://raw.githubusercontent.com/Sinfonietta/hostfiles/master/pornography-hosts\n",
            "Updating source extensions/porn/sinfonietta-snuff from https://raw.githubusercontent.com/Sinfonietta/hostfiles/master/snuff-hosts\n",
            "Updating source extensions/porn/tiuxo from https://raw.githubusercontent.com/tiuxo/hosts/master/porn\n",
            "Updating source extensions/social/sinfonietta from https://raw.githubusercontent.com/Sinfonietta/hostfiles/master/social-hosts\n",
            "Updating source extensions/social/tiuxo from https://raw.githubusercontent.com/tiuxo/hosts/master/social\n",
            "==>fe00::0 ip6-localnet<==\n",
            "==>ff00::0 ip6-mcastprefix<==\n",
            "==>ff02::2 ip6-allrouters<==\n",
            "==>ff02::3 ip6-allhosts<==\n",
            "\u001b[92mSuccess! The hosts file has been saved in folder \n",
            "It contains 190,882 unique entries.\u001b[0m\n"
          ]
        }
      ]
    },
    {
      "cell_type": "markdown",
      "source": [
        "# Step 6: Download the newly generated /content/hosts/hosts file!"
      ],
      "metadata": {
        "id": "SpTXNWU2gpDK"
      }
    }
  ],
  "metadata": {
    "colab": {
      "provenance": [],
      "include_colab_link": true
    },
    "kernelspec": {
      "display_name": "Python 3",
      "name": "python3"
    },
    "language_info": {
      "name": "python"
    }
  },
  "nbformat": 4,
  "nbformat_minor": 0
}